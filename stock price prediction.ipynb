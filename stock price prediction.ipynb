{
 "cells": [
  {
   "cell_type": "code",
   "execution_count": 16,
   "id": "a2260a92",
   "metadata": {},
   "outputs": [],
   "source": [
    "import os\n",
    "import numpy as np \n",
    "import pandas as pd\n",
    "import matplotlib.pyplot as plt\n",
    "from sklearn.preprocessing import MinMaxScaler\n",
    "%matplotlib inline\n"
   ]
  },
  {
   "cell_type": "code",
   "execution_count": 12,
   "id": "9d6db4b5",
   "metadata": {},
   "outputs": [
    {
     "data": {
      "text/html": [
       "<div>\n",
       "<style scoped>\n",
       "    .dataframe tbody tr th:only-of-type {\n",
       "        vertical-align: middle;\n",
       "    }\n",
       "\n",
       "    .dataframe tbody tr th {\n",
       "        vertical-align: top;\n",
       "    }\n",
       "\n",
       "    .dataframe thead th {\n",
       "        text-align: right;\n",
       "    }\n",
       "</style>\n",
       "<table border=\"1\" class=\"dataframe\">\n",
       "  <thead>\n",
       "    <tr style=\"text-align: right;\">\n",
       "      <th></th>\n",
       "      <th>Date</th>\n",
       "      <th>Open</th>\n",
       "      <th>High</th>\n",
       "      <th>Low</th>\n",
       "      <th>Close</th>\n",
       "      <th>Volume</th>\n",
       "    </tr>\n",
       "  </thead>\n",
       "  <tbody>\n",
       "    <tr>\n",
       "      <th>0</th>\n",
       "      <td>1/3/2012</td>\n",
       "      <td>325.25</td>\n",
       "      <td>332.83</td>\n",
       "      <td>324.97</td>\n",
       "      <td>663.59</td>\n",
       "      <td>7,380,500</td>\n",
       "    </tr>\n",
       "    <tr>\n",
       "      <th>1</th>\n",
       "      <td>1/4/2012</td>\n",
       "      <td>331.27</td>\n",
       "      <td>333.87</td>\n",
       "      <td>329.08</td>\n",
       "      <td>666.45</td>\n",
       "      <td>5,749,400</td>\n",
       "    </tr>\n",
       "    <tr>\n",
       "      <th>2</th>\n",
       "      <td>1/5/2012</td>\n",
       "      <td>329.83</td>\n",
       "      <td>330.75</td>\n",
       "      <td>326.89</td>\n",
       "      <td>657.21</td>\n",
       "      <td>6,590,300</td>\n",
       "    </tr>\n",
       "    <tr>\n",
       "      <th>3</th>\n",
       "      <td>1/6/2012</td>\n",
       "      <td>328.34</td>\n",
       "      <td>328.77</td>\n",
       "      <td>323.68</td>\n",
       "      <td>648.24</td>\n",
       "      <td>5,405,900</td>\n",
       "    </tr>\n",
       "    <tr>\n",
       "      <th>4</th>\n",
       "      <td>1/9/2012</td>\n",
       "      <td>322.04</td>\n",
       "      <td>322.29</td>\n",
       "      <td>309.46</td>\n",
       "      <td>620.76</td>\n",
       "      <td>11,688,800</td>\n",
       "    </tr>\n",
       "  </tbody>\n",
       "</table>\n",
       "</div>"
      ],
      "text/plain": [
       "       Date    Open    High     Low   Close      Volume\n",
       "0  1/3/2012  325.25  332.83  324.97  663.59   7,380,500\n",
       "1  1/4/2012  331.27  333.87  329.08  666.45   5,749,400\n",
       "2  1/5/2012  329.83  330.75  326.89  657.21   6,590,300\n",
       "3  1/6/2012  328.34  328.77  323.68  648.24   5,405,900\n",
       "4  1/9/2012  322.04  322.29  309.46  620.76  11,688,800"
      ]
     },
     "execution_count": 12,
     "metadata": {},
     "output_type": "execute_result"
    }
   ],
   "source": [
    "dataset_train = pd.read_csv('C:\\\\Users\\\\User\\\\Downloads\\\\archive (6)\\\\Google_Stock_Price_Train.csv')\n",
    "dataset_train.head()"
   ]
  },
  {
   "cell_type": "code",
   "execution_count": 13,
   "id": "7f9fbeb3",
   "metadata": {},
   "outputs": [
    {
     "name": "stdout",
     "output_type": "stream",
     "text": [
      "[[325.25]\n",
      " [331.27]\n",
      " [329.83]\n",
      " ...\n",
      " [793.7 ]\n",
      " [783.33]\n",
      " [782.75]]\n",
      "(1258, 1)\n"
     ]
    }
   ],
   "source": [
    "training_set = dataset_train.iloc[:,1:2].values\n",
    "\n",
    "print(training_set)\n",
    "print(training_set.shape)"
   ]
  },
  {
   "cell_type": "code",
   "execution_count": 17,
   "id": "3d81f579",
   "metadata": {},
   "outputs": [
    {
     "data": {
      "text/plain": [
       "array([[0.08581368],\n",
       "       [0.09701243],\n",
       "       [0.09433366],\n",
       "       ...,\n",
       "       [0.95725128],\n",
       "       [0.93796041],\n",
       "       [0.93688146]])"
      ]
     },
     "execution_count": 17,
     "metadata": {},
     "output_type": "execute_result"
    }
   ],
   "source": [
    "scaler = MinMaxScaler(feature_range = (0,1))\n",
    "scaled_training_set = scaler.fit_transform(training_set)\n",
    "scaled_training_set"
   ]
  },
  {
   "cell_type": "code",
   "execution_count": 18,
   "id": "b1b12fd8",
   "metadata": {},
   "outputs": [],
   "source": [
    "X_train = []\n",
    "Y_train = []\n",
    "for i in range(60,1258):\n",
    "    X_train.append(scaled_training_set[i-60:i,0])\n",
    "    Y_train.append(scaled_training_set[i,0])\n",
    "X_train = np.array(X_train)\n",
    "Y_train = np.array(Y_train)\n"
   ]
  },
  {
   "cell_type": "code",
   "execution_count": 20,
   "id": "f264328f",
   "metadata": {},
   "outputs": [
    {
     "name": "stdout",
     "output_type": "stream",
     "text": [
      "(1198, 60)\n",
      "(1198,)\n"
     ]
    }
   ],
   "source": [
    "print(X_train.shape)\n",
    "print(Y_train.shape)"
   ]
  },
  {
   "cell_type": "code",
   "execution_count": 21,
   "id": "4fa74a84",
   "metadata": {},
   "outputs": [
    {
     "data": {
      "text/plain": [
       "(1198, 60, 1)"
      ]
     },
     "execution_count": 21,
     "metadata": {},
     "output_type": "execute_result"
    }
   ],
   "source": [
    "X_train = np.reshape(X_train,(X_train.shape[0],X_train.shape[1],1))\n",
    "X_train.shape"
   ]
  },
  {
   "cell_type": "markdown",
   "id": "28610142",
   "metadata": {},
   "source": [
    "# Building the Model by Importing the Crucial Libraries and Adding Different Layers to LSTM."
   ]
  },
  {
   "cell_type": "code",
   "execution_count": 23,
   "id": "fe56cec2",
   "metadata": {},
   "outputs": [
    {
     "name": "stdout",
     "output_type": "stream",
     "text": [
      "Collecting Keras\n",
      "  Downloading keras-2.14.0-py3-none-any.whl (1.7 MB)\n",
      "     ---------------------------------------- 1.7/1.7 MB 5.7 MB/s eta 0:00:00\n",
      "Installing collected packages: Keras\n",
      "Successfully installed Keras-2.14.0\n"
     ]
    }
   ],
   "source": [
    "!Pip install Keras"
   ]
  },
  {
   "cell_type": "code",
   "execution_count": 25,
   "id": "5982dad9",
   "metadata": {},
   "outputs": [
    {
     "name": "stdout",
     "output_type": "stream",
     "text": [
      "Collecting tensorflow\n",
      "  Downloading tensorflow-2.13.0-cp310-cp310-win_amd64.whl (1.9 kB)\n",
      "Collecting tensorflow-intel==2.13.0\n",
      "  Downloading tensorflow_intel-2.13.0-cp310-cp310-win_amd64.whl (276.5 MB)\n",
      "     -------------------------------------- 276.5/276.5 MB 3.1 MB/s eta 0:00:00\n",
      "Collecting termcolor>=1.1.0\n",
      "  Downloading termcolor-2.3.0-py3-none-any.whl (6.9 kB)\n",
      "Collecting google-pasta>=0.1.1\n",
      "  Downloading google_pasta-0.2.0-py3-none-any.whl (57 kB)\n",
      "     ---------------------------------------- 57.5/57.5 kB 3.1 MB/s eta 0:00:00\n",
      "Collecting astunparse>=1.6.0\n",
      "  Downloading astunparse-1.6.3-py2.py3-none-any.whl (12 kB)\n",
      "Collecting flatbuffers>=23.1.21\n",
      "  Downloading flatbuffers-23.5.26-py2.py3-none-any.whl (26 kB)\n",
      "Requirement already satisfied: typing-extensions<4.6.0,>=3.6.6 in c:\\users\\user\\anaconda3\\lib\\site-packages (from tensorflow-intel==2.13.0->tensorflow) (4.4.0)\n",
      "Collecting tensorflow-estimator<2.14,>=2.13.0\n",
      "  Downloading tensorflow_estimator-2.13.0-py2.py3-none-any.whl (440 kB)\n",
      "     -------------------------------------- 440.8/440.8 kB 6.8 MB/s eta 0:00:00\n",
      "Collecting grpcio<2.0,>=1.24.3\n",
      "  Downloading grpcio-1.58.0-cp310-cp310-win_amd64.whl (4.3 MB)\n",
      "     ---------------------------------------- 4.3/4.3 MB 4.7 MB/s eta 0:00:00\n",
      "Collecting libclang>=13.0.0\n",
      "  Downloading libclang-16.0.6-py2.py3-none-win_amd64.whl (24.4 MB)\n",
      "     ---------------------------------------- 24.4/24.4 MB 3.1 MB/s eta 0:00:00\n",
      "Collecting opt-einsum>=2.3.2\n",
      "  Downloading opt_einsum-3.3.0-py3-none-any.whl (65 kB)\n",
      "     ---------------------------------------- 65.5/65.5 kB 3.5 MB/s eta 0:00:00\n",
      "Requirement already satisfied: h5py>=2.9.0 in c:\\users\\user\\anaconda3\\lib\\site-packages (from tensorflow-intel==2.13.0->tensorflow) (3.7.0)\n",
      "Requirement already satisfied: setuptools in c:\\users\\user\\anaconda3\\lib\\site-packages (from tensorflow-intel==2.13.0->tensorflow) (65.6.3)\n",
      "Requirement already satisfied: wrapt>=1.11.0 in c:\\users\\user\\anaconda3\\lib\\site-packages (from tensorflow-intel==2.13.0->tensorflow) (1.14.1)\n",
      "Collecting keras<2.14,>=2.13.1\n",
      "  Downloading keras-2.13.1-py3-none-any.whl (1.7 MB)\n",
      "     ---------------------------------------- 1.7/1.7 MB 6.8 MB/s eta 0:00:00\n",
      "Requirement already satisfied: six>=1.12.0 in c:\\users\\user\\anaconda3\\lib\\site-packages (from tensorflow-intel==2.13.0->tensorflow) (1.16.0)\n",
      "Requirement already satisfied: numpy<=1.24.3,>=1.22 in c:\\users\\user\\anaconda3\\lib\\site-packages (from tensorflow-intel==2.13.0->tensorflow) (1.23.5)\n",
      "Collecting gast<=0.4.0,>=0.2.1\n",
      "  Downloading gast-0.4.0-py3-none-any.whl (9.8 kB)\n",
      "Collecting tensorflow-io-gcs-filesystem>=0.23.1\n",
      "  Downloading tensorflow_io_gcs_filesystem-0.31.0-cp310-cp310-win_amd64.whl (1.5 MB)\n",
      "     ---------------------------------------- 1.5/1.5 MB 6.8 MB/s eta 0:00:00\n",
      "Collecting tensorboard<2.14,>=2.13\n",
      "  Downloading tensorboard-2.13.0-py3-none-any.whl (5.6 MB)\n",
      "     ---------------------------------------- 5.6/5.6 MB 6.4 MB/s eta 0:00:00\n",
      "Requirement already satisfied: packaging in c:\\users\\user\\anaconda3\\lib\\site-packages (from tensorflow-intel==2.13.0->tensorflow) (22.0)\n",
      "Collecting protobuf!=4.21.0,!=4.21.1,!=4.21.2,!=4.21.3,!=4.21.4,!=4.21.5,<5.0.0dev,>=3.20.3\n",
      "  Downloading protobuf-4.24.3-cp310-abi3-win_amd64.whl (430 kB)\n",
      "     -------------------------------------- 430.5/430.5 kB 8.9 MB/s eta 0:00:00\n",
      "Collecting absl-py>=1.0.0\n",
      "  Downloading absl_py-1.4.0-py3-none-any.whl (126 kB)\n",
      "     -------------------------------------- 126.5/126.5 kB 7.3 MB/s eta 0:00:00\n",
      "Requirement already satisfied: wheel<1.0,>=0.23.0 in c:\\users\\user\\anaconda3\\lib\\site-packages (from astunparse>=1.6.0->tensorflow-intel==2.13.0->tensorflow) (0.38.4)\n",
      "Requirement already satisfied: werkzeug>=1.0.1 in c:\\users\\user\\anaconda3\\lib\\site-packages (from tensorboard<2.14,>=2.13->tensorflow-intel==2.13.0->tensorflow) (2.2.2)\n",
      "Collecting google-auth-oauthlib<1.1,>=0.5\n",
      "  Downloading google_auth_oauthlib-1.0.0-py2.py3-none-any.whl (18 kB)\n",
      "Requirement already satisfied: requests<3,>=2.21.0 in c:\\users\\user\\anaconda3\\lib\\site-packages (from tensorboard<2.14,>=2.13->tensorflow-intel==2.13.0->tensorflow) (2.28.1)\n",
      "Collecting tensorboard-data-server<0.8.0,>=0.7.0\n",
      "  Downloading tensorboard_data_server-0.7.1-py3-none-any.whl (2.4 kB)\n",
      "Requirement already satisfied: markdown>=2.6.8 in c:\\users\\user\\anaconda3\\lib\\site-packages (from tensorboard<2.14,>=2.13->tensorflow-intel==2.13.0->tensorflow) (3.4.1)\n",
      "Collecting google-auth<3,>=1.6.3\n",
      "  Downloading google_auth-2.23.0-py2.py3-none-any.whl (181 kB)\n",
      "     ---------------------------------------- 181.4/181.4 kB ? eta 0:00:00\n",
      "Collecting cachetools<6.0,>=2.0.0\n",
      "  Downloading cachetools-5.3.1-py3-none-any.whl (9.3 kB)\n",
      "Collecting rsa<5,>=3.1.4\n",
      "  Downloading rsa-4.9-py3-none-any.whl (34 kB)\n",
      "Requirement already satisfied: pyasn1-modules>=0.2.1 in c:\\users\\user\\anaconda3\\lib\\site-packages (from google-auth<3,>=1.6.3->tensorboard<2.14,>=2.13->tensorflow-intel==2.13.0->tensorflow) (0.2.8)\n",
      "Requirement already satisfied: urllib3<2.0 in c:\\users\\user\\anaconda3\\lib\\site-packages (from google-auth<3,>=1.6.3->tensorboard<2.14,>=2.13->tensorflow-intel==2.13.0->tensorflow) (1.26.14)\n",
      "Collecting requests-oauthlib>=0.7.0\n",
      "  Downloading requests_oauthlib-1.3.1-py2.py3-none-any.whl (23 kB)\n",
      "Requirement already satisfied: idna<4,>=2.5 in c:\\users\\user\\anaconda3\\lib\\site-packages (from requests<3,>=2.21.0->tensorboard<2.14,>=2.13->tensorflow-intel==2.13.0->tensorflow) (3.4)\n",
      "Requirement already satisfied: certifi>=2017.4.17 in c:\\users\\user\\anaconda3\\lib\\site-packages (from requests<3,>=2.21.0->tensorboard<2.14,>=2.13->tensorflow-intel==2.13.0->tensorflow) (2022.12.7)\n",
      "Requirement already satisfied: charset-normalizer<3,>=2 in c:\\users\\user\\anaconda3\\lib\\site-packages (from requests<3,>=2.21.0->tensorboard<2.14,>=2.13->tensorflow-intel==2.13.0->tensorflow) (2.0.4)\n",
      "Requirement already satisfied: MarkupSafe>=2.1.1 in c:\\users\\user\\anaconda3\\lib\\site-packages (from werkzeug>=1.0.1->tensorboard<2.14,>=2.13->tensorflow-intel==2.13.0->tensorflow) (2.1.1)\n",
      "Requirement already satisfied: pyasn1<0.5.0,>=0.4.6 in c:\\users\\user\\anaconda3\\lib\\site-packages (from pyasn1-modules>=0.2.1->google-auth<3,>=1.6.3->tensorboard<2.14,>=2.13->tensorflow-intel==2.13.0->tensorflow) (0.4.8)\n",
      "Collecting oauthlib>=3.0.0\n",
      "  Downloading oauthlib-3.2.2-py3-none-any.whl (151 kB)\n",
      "     -------------------------------------- 151.7/151.7 kB 8.8 MB/s eta 0:00:00\n",
      "Installing collected packages: libclang, flatbuffers, termcolor, tensorflow-io-gcs-filesystem, tensorflow-estimator, tensorboard-data-server, rsa, protobuf, opt-einsum, oauthlib, keras, grpcio, google-pasta, gast, cachetools, astunparse, absl-py, requests-oauthlib, google-auth, google-auth-oauthlib, tensorboard, tensorflow-intel, tensorflow\n",
      "  Attempting uninstall: keras\n",
      "    Found existing installation: keras 2.14.0\n",
      "    Uninstalling keras-2.14.0:\n",
      "      Successfully uninstalled keras-2.14.0\n",
      "Successfully installed absl-py-1.4.0 astunparse-1.6.3 cachetools-5.3.1 flatbuffers-23.5.26 gast-0.4.0 google-auth-2.23.0 google-auth-oauthlib-1.0.0 google-pasta-0.2.0 grpcio-1.58.0 keras-2.13.1 libclang-16.0.6 oauthlib-3.2.2 opt-einsum-3.3.0 protobuf-4.24.3 requests-oauthlib-1.3.1 rsa-4.9 tensorboard-2.13.0 tensorboard-data-server-0.7.1 tensorflow-2.13.0 tensorflow-estimator-2.13.0 tensorflow-intel-2.13.0 tensorflow-io-gcs-filesystem-0.31.0 termcolor-2.3.0\n"
     ]
    }
   ],
   "source": [
    "!pip install tensorflow"
   ]
  },
  {
   "cell_type": "code",
   "execution_count": 26,
   "id": "10fd79b5",
   "metadata": {},
   "outputs": [],
   "source": [
    "from keras.models import Sequential\n",
    "from keras.layers import LSTM\n",
    "from keras.layers import Dense\n",
    "from keras.layers import Dropout"
   ]
  },
  {
   "cell_type": "code",
   "execution_count": 28,
   "id": "7de6bd67",
   "metadata": {},
   "outputs": [],
   "source": [
    "regressor = Sequential()\n",
    "\n",
    "regressor.add(LSTM(units=50,return_sequences= True , input_shape = (X_train.shape[1],1)))\n",
    "regressor.add(Dropout(0.2))\n",
    "\n",
    "regressor.add(LSTM(units=50,return_sequences= True ))\n",
    "regressor.add(Dropout(0.2))\n",
    "\n",
    "regressor.add(LSTM(units=50,return_sequences= True ))\n",
    "regressor.add(Dropout(0.2))\n",
    "\n",
    "regressor.add(LSTM(units=50))\n",
    "regressor.add(Dropout(0.2))\n",
    "\n",
    "regressor.add(Dense(units=1))"
   ]
  },
  {
   "cell_type": "code",
   "execution_count": 31,
   "id": "5a11b16a",
   "metadata": {},
   "outputs": [
    {
     "name": "stdout",
     "output_type": "stream",
     "text": [
      "Epoch 1/100\n",
      "55/55 [==============================] - 14s 87ms/step - loss: 0.0289\n",
      "Epoch 2/100\n",
      "55/55 [==============================] - 5s 86ms/step - loss: 0.0063\n",
      "Epoch 3/100\n",
      "55/55 [==============================] - 5s 86ms/step - loss: 0.0060\n",
      "Epoch 4/100\n",
      "55/55 [==============================] - 5s 87ms/step - loss: 0.0052\n",
      "Epoch 5/100\n",
      "55/55 [==============================] - 5s 90ms/step - loss: 0.0046\n",
      "Epoch 6/100\n",
      "55/55 [==============================] - 6s 102ms/step - loss: 0.0046\n",
      "Epoch 7/100\n",
      "55/55 [==============================] - 6s 102ms/step - loss: 0.0045\n",
      "Epoch 8/100\n",
      "55/55 [==============================] - 5s 97ms/step - loss: 0.0039\n",
      "Epoch 9/100\n",
      "55/55 [==============================] - 5s 94ms/step - loss: 0.0039\n",
      "Epoch 10/100\n",
      "55/55 [==============================] - 5s 97ms/step - loss: 0.0041\n",
      "Epoch 11/100\n",
      "55/55 [==============================] - 6s 103ms/step - loss: 0.0036\n",
      "Epoch 12/100\n",
      "55/55 [==============================] - 5s 97ms/step - loss: 0.0041\n",
      "Epoch 13/100\n",
      "55/55 [==============================] - 5s 98ms/step - loss: 0.0036\n",
      "Epoch 14/100\n",
      "55/55 [==============================] - 5s 96ms/step - loss: 0.0047\n",
      "Epoch 15/100\n",
      "55/55 [==============================] - 5s 93ms/step - loss: 0.0035\n",
      "Epoch 16/100\n",
      "55/55 [==============================] - 5s 98ms/step - loss: 0.0032\n",
      "Epoch 17/100\n",
      "55/55 [==============================] - 5s 96ms/step - loss: 0.0034\n",
      "Epoch 18/100\n",
      "55/55 [==============================] - 5s 94ms/step - loss: 0.0038\n",
      "Epoch 19/100\n",
      "55/55 [==============================] - 5s 90ms/step - loss: 0.0028\n",
      "Epoch 20/100\n",
      "55/55 [==============================] - 5s 93ms/step - loss: 0.0032\n",
      "Epoch 21/100\n",
      "55/55 [==============================] - 5s 92ms/step - loss: 0.0030\n",
      "Epoch 22/100\n",
      "55/55 [==============================] - 5s 90ms/step - loss: 0.0031\n",
      "Epoch 23/100\n",
      "55/55 [==============================] - 5s 97ms/step - loss: 0.0031\n",
      "Epoch 24/100\n",
      "55/55 [==============================] - 5s 93ms/step - loss: 0.0027\n",
      "Epoch 25/100\n",
      "55/55 [==============================] - 5s 92ms/step - loss: 0.0032\n",
      "Epoch 26/100\n",
      "55/55 [==============================] - 5s 97ms/step - loss: 0.0030\n",
      "Epoch 27/100\n",
      "55/55 [==============================] - 5s 94ms/step - loss: 0.0029\n",
      "Epoch 28/100\n",
      "55/55 [==============================] - 5s 89ms/step - loss: 0.0028\n",
      "Epoch 29/100\n",
      "55/55 [==============================] - 5s 89ms/step - loss: 0.0026\n",
      "Epoch 30/100\n",
      "55/55 [==============================] - 5s 87ms/step - loss: 0.0025\n",
      "Epoch 31/100\n",
      "55/55 [==============================] - 5s 87ms/step - loss: 0.0025\n",
      "Epoch 32/100\n",
      "55/55 [==============================] - 5s 89ms/step - loss: 0.0025\n",
      "Epoch 33/100\n",
      "55/55 [==============================] - 5s 89ms/step - loss: 0.0025\n",
      "Epoch 34/100\n",
      "55/55 [==============================] - 5s 87ms/step - loss: 0.0026\n",
      "Epoch 35/100\n",
      "55/55 [==============================] - 5s 87ms/step - loss: 0.0022\n",
      "Epoch 36/100\n",
      "55/55 [==============================] - 6s 106ms/step - loss: 0.0024\n",
      "Epoch 37/100\n",
      "55/55 [==============================] - 5s 97ms/step - loss: 0.0024\n",
      "Epoch 38/100\n",
      "55/55 [==============================] - 5s 96ms/step - loss: 0.0023\n",
      "Epoch 39/100\n",
      "55/55 [==============================] - 5s 90ms/step - loss: 0.0024\n",
      "Epoch 40/100\n",
      "55/55 [==============================] - 5s 90ms/step - loss: 0.0022\n",
      "Epoch 41/100\n",
      "55/55 [==============================] - 5s 90ms/step - loss: 0.0025\n",
      "Epoch 42/100\n",
      "55/55 [==============================] - 5s 90ms/step - loss: 0.0021\n",
      "Epoch 43/100\n",
      "55/55 [==============================] - 5s 90ms/step - loss: 0.0020\n",
      "Epoch 44/100\n",
      "55/55 [==============================] - 5s 90ms/step - loss: 0.0021\n",
      "Epoch 45/100\n",
      "55/55 [==============================] - 5s 90ms/step - loss: 0.0018\n",
      "Epoch 46/100\n",
      "55/55 [==============================] - 5s 90ms/step - loss: 0.0023\n",
      "Epoch 47/100\n",
      "55/55 [==============================] - 5s 91ms/step - loss: 0.0021\n",
      "Epoch 48/100\n",
      "55/55 [==============================] - 5s 90ms/step - loss: 0.0019\n",
      "Epoch 49/100\n",
      "55/55 [==============================] - 5s 90ms/step - loss: 0.0021\n",
      "Epoch 50/100\n",
      "55/55 [==============================] - 5s 90ms/step - loss: 0.0020\n",
      "Epoch 51/100\n",
      "55/55 [==============================] - 5s 91ms/step - loss: 0.0018\n",
      "Epoch 52/100\n",
      "55/55 [==============================] - 5s 90ms/step - loss: 0.0017\n",
      "Epoch 53/100\n",
      "55/55 [==============================] - 5s 90ms/step - loss: 0.0018\n",
      "Epoch 54/100\n",
      "55/55 [==============================] - 5s 89ms/step - loss: 0.0019\n",
      "Epoch 55/100\n",
      "55/55 [==============================] - 5s 90ms/step - loss: 0.0019\n",
      "Epoch 56/100\n",
      "55/55 [==============================] - 5s 92ms/step - loss: 0.0019\n",
      "Epoch 57/100\n",
      "55/55 [==============================] - 5s 89ms/step - loss: 0.0018\n",
      "Epoch 58/100\n",
      "55/55 [==============================] - 5s 89ms/step - loss: 0.0017\n",
      "Epoch 59/100\n",
      "55/55 [==============================] - 5s 90ms/step - loss: 0.0015\n",
      "Epoch 60/100\n",
      "55/55 [==============================] - 5s 90ms/step - loss: 0.0016\n",
      "Epoch 61/100\n",
      "55/55 [==============================] - 5s 94ms/step - loss: 0.0017\n",
      "Epoch 62/100\n",
      "55/55 [==============================] - 6s 113ms/step - loss: 0.0017\n",
      "Epoch 63/100\n",
      "55/55 [==============================] - 5s 89ms/step - loss: 0.0016\n",
      "Epoch 64/100\n",
      "55/55 [==============================] - 5s 88ms/step - loss: 0.0016\n",
      "Epoch 65/100\n",
      "55/55 [==============================] - 5s 88ms/step - loss: 0.0017\n",
      "Epoch 66/100\n",
      "55/55 [==============================] - 5s 88ms/step - loss: 0.0016\n",
      "Epoch 67/100\n",
      "55/55 [==============================] - 5s 88ms/step - loss: 0.0015\n",
      "Epoch 68/100\n",
      "55/55 [==============================] - 5s 88ms/step - loss: 0.0016\n",
      "Epoch 69/100\n",
      "55/55 [==============================] - 5s 90ms/step - loss: 0.0016\n",
      "Epoch 70/100\n",
      "55/55 [==============================] - 6s 110ms/step - loss: 0.0017\n",
      "Epoch 71/100\n",
      "55/55 [==============================] - 6s 111ms/step - loss: 0.0016\n",
      "Epoch 72/100\n",
      "55/55 [==============================] - 6s 102ms/step - loss: 0.0018\n",
      "Epoch 73/100\n",
      "55/55 [==============================] - 5s 88ms/step - loss: 0.0014\n",
      "Epoch 74/100\n",
      "55/55 [==============================] - 5s 89ms/step - loss: 0.0015\n",
      "Epoch 75/100\n",
      "55/55 [==============================] - 5s 88ms/step - loss: 0.0015\n",
      "Epoch 76/100\n",
      "55/55 [==============================] - 5s 90ms/step - loss: 0.0013\n",
      "Epoch 77/100\n",
      "55/55 [==============================] - 6s 110ms/step - loss: 0.0015\n",
      "Epoch 78/100\n",
      "55/55 [==============================] - 5s 93ms/step - loss: 0.0016\n",
      "Epoch 79/100\n",
      "55/55 [==============================] - 5s 88ms/step - loss: 0.0016\n",
      "Epoch 80/100\n",
      "55/55 [==============================] - 5s 93ms/step - loss: 0.0015\n",
      "Epoch 81/100\n",
      "55/55 [==============================] - 5s 91ms/step - loss: 0.0013\n",
      "Epoch 82/100\n",
      "55/55 [==============================] - 5s 96ms/step - loss: 0.0015\n",
      "Epoch 83/100\n",
      "55/55 [==============================] - 5s 88ms/step - loss: 0.0013\n",
      "Epoch 84/100\n",
      "55/55 [==============================] - 5s 91ms/step - loss: 0.0014\n",
      "Epoch 85/100\n",
      "55/55 [==============================] - 6s 102ms/step - loss: 0.0015\n",
      "Epoch 86/100\n",
      "55/55 [==============================] - 6s 116ms/step - loss: 0.0014\n",
      "Epoch 87/100\n",
      "55/55 [==============================] - 6s 107ms/step - loss: 0.0014\n",
      "Epoch 88/100\n",
      "55/55 [==============================] - 5s 98ms/step - loss: 0.0013\n",
      "Epoch 89/100\n",
      "55/55 [==============================] - 5s 97ms/step - loss: 0.0014\n",
      "Epoch 90/100\n",
      "55/55 [==============================] - 5s 91ms/step - loss: 0.0013\n",
      "Epoch 91/100\n",
      "55/55 [==============================] - 5s 91ms/step - loss: 0.0013\n",
      "Epoch 92/100\n",
      "55/55 [==============================] - 5s 88ms/step - loss: 0.0013\n",
      "Epoch 93/100\n",
      "55/55 [==============================] - 5s 89ms/step - loss: 0.0013\n",
      "Epoch 94/100\n",
      "55/55 [==============================] - 5s 89ms/step - loss: 0.0012\n",
      "Epoch 95/100\n",
      "55/55 [==============================] - 5s 88ms/step - loss: 0.0013\n",
      "Epoch 96/100\n",
      "55/55 [==============================] - 5s 88ms/step - loss: 0.0013\n",
      "Epoch 97/100\n",
      "55/55 [==============================] - 5s 90ms/step - loss: 0.0014\n",
      "Epoch 98/100\n",
      "55/55 [==============================] - 5s 88ms/step - loss: 0.0013\n",
      "Epoch 99/100\n",
      "55/55 [==============================] - 5s 89ms/step - loss: 0.0012\n",
      "Epoch 100/100\n",
      "55/55 [==============================] - 5s 89ms/step - loss: 0.0011\n"
     ]
    },
    {
     "data": {
      "text/plain": [
       "<keras.src.callbacks.History at 0x2b4d354e410>"
      ]
     },
     "execution_count": 31,
     "metadata": {},
     "output_type": "execute_result"
    }
   ],
   "source": [
    "regressor.compile(optimizer = 'adam' , loss = 'mean_squared_error')\n",
    "regressor.fit(X_train,Y_train,epochs=100, batch_size= 22)"
   ]
  },
  {
   "cell_type": "markdown",
   "id": "12abcddf",
   "metadata": {},
   "source": [
    "# Extracting the Actual Stock Prices of Jan-2017"
   ]
  },
  {
   "cell_type": "code",
   "execution_count": 32,
   "id": "1e4716fc",
   "metadata": {},
   "outputs": [],
   "source": [
    "dataset_test = pd.read_csv('C:\\\\Users\\\\User\\\\Downloads\\\\archive (6)\\\\Google_Stock_Price_Test.csv')\n",
    "actual_stock_price = dataset_test.iloc[:,1:2].values"
   ]
  },
  {
   "cell_type": "markdown",
   "id": "af125175",
   "metadata": {},
   "source": [
    "# Preparing the Input for the Model."
   ]
  },
  {
   "cell_type": "code",
   "execution_count": 70,
   "id": "a249b8b6",
   "metadata": {},
   "outputs": [],
   "source": [
    "dataset_total = pd.concat((dataset_train['Open'],dataset_test['Open']),axis= 0)\n",
    "inputs = dataset_total[len(dataset_total)-len(dataset_test)-60:].values\n",
    "\n",
    "inputs = inputs.reshape(-1,1)\n",
    "inputs = scaler.transform(inputs)\n",
    "\n",
    "X_test =[]\n",
    "for i in range(60,80):\n",
    "    X_test.append(inputs[i-60:i,0])\n",
    "    \n",
    "X_test = np.array(X_test)\n",
    "\n",
    "X_test = np.reshape(X_test, (X_test.shape[0],X_test.shape[1],1))"
   ]
  },
  {
   "cell_type": "markdown",
   "id": "2600bed1",
   "metadata": {},
   "source": [
    "# Predicting the Values for Jan 2017 Stock Prices.\n"
   ]
  },
  {
   "cell_type": "code",
   "execution_count": 71,
   "id": "25594c16",
   "metadata": {},
   "outputs": [
    {
     "name": "stdout",
     "output_type": "stream",
     "text": [
      "1/1 [==============================] - 2s 2s/step\n"
     ]
    }
   ],
   "source": [
    "predicted_stock_price = regressor.predict(X_test)\n",
    "predicted_stock_price = scaler.inverse_transform(predicted_stock_price)"
   ]
  },
  {
   "cell_type": "markdown",
   "id": "7b12d74a",
   "metadata": {},
   "source": [
    "# Plotting the Actual and Predicted Prices for Google Stocks."
   ]
  },
  {
   "cell_type": "code",
   "execution_count": 75,
   "id": "db4b25c6",
   "metadata": {},
   "outputs": [
    {
     "data": {
      "text/plain": [
       "<matplotlib.legend.Legend at 0x2b4de93d8d0>"
      ]
     },
     "execution_count": 75,
     "metadata": {},
     "output_type": "execute_result"
    },
    {
     "data": {
      "image/png": "[encoded data removed]",
      "text/plain": [
       "<Figure size 640x480 with 1 Axes>"
      ]
     },
     "metadata": {},
     "output_type": "display_data"
    }
   ],
   "source": [
    "plt.plot(actual_stock_price, color ='red' ,label= 'actual google stock price')\n",
    "plt.plot(predicted_stock_price, color ='blue' ,label= 'predicted google stock price')\n",
    "plt.title('Google stock price Prediction')\n",
    "plt.xlabel('Time')\n",
    "plt.ylabel('Google stock price')\n",
    "plt.legend()"
   ]
  },
  {
   "cell_type": "code",
   "execution_count": null,
   "id": "942991b0",
   "metadata": {},
   "outputs": [],
   "source": []
  }
 ],
 "metadata": {
  "kernelspec": {
   "display_name": "Python 3 (ipykernel)",
   "language": "python",
   "name": "python3"
  },
  "language_info": {
   "codemirror_mode": {
    "name": "ipython",
    "version": 3
   },
   "file_extension": ".py",
   "mimetype": "text/x-python",
   "name": "python",
   "nbconvert_exporter": "python",
   "pygments_lexer": "ipython3",
   "version": "3.10.9"
  }
 },
 "nbformat": 4,
 "nbformat_minor": 5
}
